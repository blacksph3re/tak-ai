{
 "cells": [
  {
   "cell_type": "code",
   "execution_count": 1,
   "metadata": {},
   "outputs": [
    {
     "data": {
      "text/plain": [
       "Main.MCTS"
      ]
     },
     "execution_count": 1,
     "metadata": {},
     "output_type": "execute_result"
    }
   ],
   "source": [
    "include(\"src/TakEnv.jl\")\n",
    "include(\"src/Encoder.jl\")\n",
    "include(\"src/MCTS.jl\")"
   ]
  },
  {
   "cell_type": "code",
   "execution_count": 2,
   "metadata": {},
   "outputs": [
    {
     "data": {
      "text/plain": [
       "Float64"
      ]
     },
     "execution_count": 2,
     "metadata": {},
     "output_type": "execute_result"
    }
   ],
   "source": [
    "using .TakEnv\n",
    "using .TakEnv: black, white\n",
    "using .Encoder\n",
    "using .MCTS\n",
    "using StatProfilerHTML\n",
    "using BenchmarkTools\n",
    "using Distributions\n",
    "\n",
    "\n",
    "Float = Float64"
   ]
  },
  {
   "cell_type": "code",
   "execution_count": 3,
   "metadata": {},
   "outputs": [
    {
     "data": {
      "text/plain": [
       "Dict{String,Any}"
      ]
     },
     "execution_count": 3,
     "metadata": {},
     "output_type": "execute_result"
    }
   ],
   "source": [
    "hparams = Dict(\n",
    "    \"d_puct\" => 1.0,\n",
    "    \"batch_size\" => 64,\n",
    "    \"run_name\" => \"testrun\",\n",
    "    \"exploration_factor\" => 0.25,\n",
    "    \"separate_models\" => false, # Whether to use separate models for playing as white or as black\n",
    ")\n",
    "HParams = typeof(hparams)\n"
   ]
  },
  {
   "cell_type": "code",
   "execution_count": 4,
   "metadata": {},
   "outputs": [
    {
     "data": {
      "text/plain": [
       "dummy_model (generic function with 1 method)"
      ]
     },
     "execution_count": 4,
     "metadata": {},
     "output_type": "execute_result"
    }
   ],
   "source": [
    "function dummy_model(state, player)\n",
    "    logits = transpose(rand(Dirichlet(action_onehot_encoding_length, 0.1), length(state)))\n",
    "    values = rand(length(state))\n",
    "    return logits, values\n",
    "end"
   ]
  },
  {
   "cell_type": "code",
   "execution_count": 5,
   "metadata": {},
   "outputs": [
    {
     "data": {
      "text/plain": [
       "Dict{BitArray{1},Main.MCTS.NodeStats}()"
      ]
     },
     "execution_count": 5,
     "metadata": {},
     "output_type": "execute_result"
    }
   ],
   "source": [
    "storage = MCTSStorage()\n"
   ]
  },
  {
   "cell_type": "code",
   "execution_count": 6,
   "metadata": {},
   "outputs": [
    {
     "data": {
      "text/plain": [
       "Dict{BitArray{1},Main.MCTS.NodeStats} with 1 entry:\n",
       "  Bool[0, 0, 0, 0, 0, 0, 0… => NodeStats([0, 1, 2, 635, 636, 637, 1270, 1271, 1…"
      ]
     },
     "execution_count": 6,
     "metadata": {},
     "output_type": "execute_result"
    }
   ],
   "source": [
    "storage = search_batch(hparams, MCTSStorage(), compress_board(empty_board()), white::Player, dummy_model)"
   ]
  },
  {
   "cell_type": "code",
   "execution_count": 8,
   "metadata": {},
   "outputs": [
    {
     "name": "stderr",
     "output_type": "stream",
     "text": [
      "Unable to find reverse file for '/build/julia/src/julia-1.5.3/usr/share/julia/stdlib/v1.5/Random/src/generation.jl'\n",
      "Unable to find reverse file for '/build/julia/src/julia-1.5.3/usr/share/julia/stdlib/v1.5/Random/src/RNGs.jl'\n",
      "Unable to find reverse file for '/build/julia/src/julia-1.5.3/usr/share/julia/stdlib/v1.5/Profile/src/Profile.jl'\n",
      "Unable to find reverse file for '/build/julia/src/julia-1.5.3/usr/share/julia/stdlib/v1.5/Random/src/normal.jl'\n",
      "Unable to find reverse file for '/build/julia/src/julia-1.5.3/usr/share/julia/stdlib/v1.5/Random/src/Random.jl'\n",
      "┌ Info: Wrote profiling output to file:///home/sph3re/Programming/tak/statprof/index.html .\n",
      "└ @ StatProfilerHTML /home/sph3re/.julia/packages/StatProfilerHTML/OFVct/src/StatProfilerHTML.jl:49\n"
     ]
    }
   ],
   "source": [
    "@profilehtml for _ in 1:100\n",
    "    storage = search_batch(hparams, storage, compress_board(empty_board()), white::Player, dummy_model)\n",
    "end"
   ]
  },
  {
   "cell_type": "code",
   "execution_count": 17,
   "metadata": {},
   "outputs": [
    {
     "data": {
      "text/plain": [
       "true"
      ]
     },
     "execution_count": 17,
     "metadata": {},
     "output_type": "execute_result"
    }
   ],
   "source": [
    "isapprox(1.000000001, 1)"
   ]
  },
  {
   "cell_type": "code",
   "execution_count": 43,
   "metadata": {},
   "outputs": [
    {
     "data": {
      "text/plain": [
       "enumerate([1.3449291945454502e-5, 0.0009014232469946435, 3.6801455456219184e-10, 2.0791684142500895e-5, 3.3436094842642716e-13, 5.886400880272093e-10, 6.56143996728308e-10, 2.6565781400430685e-10, 6.167606851193749e-10, 0.0009285712681922605  …  0.0005994884536051203, 0.00043140687088460674, 4.0327977322462846e-6, 0.0015636554638091534, 1.142905998721985e-7, 4.5598668434942826e-5, 0.0009630170348109763, 3.2853774299836843e-9, 4.877445786974647e-8, 1.4543448820447464e-8])"
      ]
     },
     "execution_count": 43,
     "metadata": {},
     "output_type": "execute_result"
    }
   ],
   "source": [
    "enumerate(y[:])"
   ]
  },
  {
   "cell_type": "code",
   "execution_count": 12,
   "metadata": {},
   "outputs": [],
   "source": [
    "x = Ref(1)\n",
    "Threads.@threads for i in 1:100\n",
    "    x[] += 1\n",
    "end"
   ]
  },
  {
   "cell_type": "code",
   "execution_count": 1,
   "metadata": {},
   "outputs": [],
   "source": [
    "c = Threads.SpinLock()\n",
    "lock(c)"
   ]
  },
  {
   "cell_type": "code",
   "execution_count": 2,
   "metadata": {},
   "outputs": [
    {
     "data": {
      "text/plain": [
       "true"
      ]
     },
     "execution_count": 2,
     "metadata": {},
     "output_type": "execute_result"
    }
   ],
   "source": [
    "islocked(c)"
   ]
  },
  {
   "cell_type": "code",
   "execution_count": 21,
   "metadata": {},
   "outputs": [],
   "source": [
    "unlock(c)"
   ]
  },
  {
   "cell_type": "code",
   "execution_count": null,
   "metadata": {},
   "outputs": [],
   "source": [
    "lock(c)"
   ]
  },
  {
   "cell_type": "code",
   "execution_count": null,
   "metadata": {},
   "outputs": [],
   "source": [
    "wait(c)"
   ]
  },
  {
   "cell_type": "code",
   "execution_count": null,
   "metadata": {},
   "outputs": [],
   "source": [
    "unlock(c)"
   ]
  },
  {
   "cell_type": "code",
   "execution_count": null,
   "metadata": {},
   "outputs": [],
   "source": []
  }
 ],
 "metadata": {
  "kernelspec": {
   "display_name": "Julia 1.5.3",
   "language": "julia",
   "name": "julia-1.5"
  },
  "language_info": {
   "file_extension": ".jl",
   "mimetype": "application/julia",
   "name": "julia",
   "version": "1.5.3"
  }
 },
 "nbformat": 4,
 "nbformat_minor": 4
}
