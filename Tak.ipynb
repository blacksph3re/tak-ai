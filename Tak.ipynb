{
 "cells": [
  {
   "cell_type": "code",
   "execution_count": 1,
   "metadata": {},
   "outputs": [],
   "source": [
    "# Ideas for improvement\n",
    "# Store the player alongside with the board state, as the move heuristics should depend on the currently active player\n",
    "# Don't store the actions in a node, calculating them is quick and we are memory bound\n",
    "# Rotate or reflect the board when feeding it to a neural net - tak is rotation/reflection-invariant"
   ]
  },
  {
   "cell_type": "code",
   "execution_count": 1,
   "metadata": {},
   "outputs": [
    {
     "data": {
      "text/plain": [
       "Main.Model"
      ]
     },
     "execution_count": 1,
     "metadata": {},
     "output_type": "execute_result"
    }
   ],
   "source": [
    "include(\"src/TakEnv.jl\")\n",
    "include(\"src/Encoder.jl\")\n",
    "include(\"src/MCTS.jl\")\n",
    "include(\"src/Model.jl\")"
   ]
  },
  {
   "cell_type": "code",
   "execution_count": 2,
   "metadata": {},
   "outputs": [
    {
     "data": {
      "text/plain": [
       "Float32"
      ]
     },
     "execution_count": 2,
     "metadata": {},
     "output_type": "execute_result"
    }
   ],
   "source": [
    "using .TakEnv\n",
    "using .TakEnv: black, white\n",
    "using .Encoder\n",
    "using .MCTS\n",
    "using .Model\n",
    "using StatProfilerHTML\n",
    "using BenchmarkTools\n",
    "using Distributions\n",
    "using StatsBase\n",
    "using Flux\n",
    "\n",
    "Float = Float32"
   ]
  },
  {
   "cell_type": "code",
   "execution_count": 3,
   "metadata": {},
   "outputs": [
    {
     "data": {
      "text/plain": [
       "play_game (generic function with 2 methods)"
      ]
     },
     "execution_count": 3,
     "metadata": {},
     "output_type": "execute_result"
    }
   ],
   "source": [
    "\n",
    "function play_game(hparams, storage::MCTSStorage, model)\n",
    "    buf, res, storages = play_game(hparams, (storage, storage), (model, model))\n",
    "    buf, res, storages[1]\n",
    "end\n",
    "\n",
    "function play_game(hparams, storages::NTuple{2, MCTSStorage}, models::NTuple{2, Any})\n",
    "    board = empty_board()\n",
    "    cur_player = white::Player\n",
    "    first_player = white::Player\n",
    "    history = []\n",
    "    \n",
    "    result = nothing\n",
    "    first_player_result = nothing\n",
    "    # Play a game\n",
    "    while isnothing(result)\n",
    "        storage_idx = cur_player==first_player ? 1 : 2\n",
    "        \n",
    "        # Perform a bit of MCTS and then choose an action\n",
    "        possible_actions = compress_action.(enumerate_actions(board, cur_player))\n",
    "        state = compress_board(board)\n",
    "        storage = mcts_search(hparams, storages[storage_idx], state, cur_player, models[storage_idx])\n",
    "        tau = hparams[\"steps_before_tau_0\"] > length(history) ? hparams[\"tau\"] : 0\n",
    "        probs, avg_val, actions = evaluate_node(storages[storage_idx], state, tau, possible_actions)\n",
    "        action_idx = sample(1:length(actions), AnalyticWeights(probs))\n",
    "        push!(history, (state, cur_player, probs, actions))\n",
    "        \n",
    "        # Advance the game-state and check for a win\n",
    "        apply_action!(board, decompress_action(actions[action_idx]), cur_player)\n",
    "        result = check_win(board, cur_player)\n",
    "        if !isnothing(result)\n",
    "            if result[1] == TakEnv.draw\n",
    "                result = 0\n",
    "                first_player_result = 0\n",
    "            elseif result[2] == first_player\n",
    "                result = 1\n",
    "                first_player_result = 1\n",
    "            else\n",
    "                result = 1\n",
    "                first_player_result = -1\n",
    "            end\n",
    "            break\n",
    "        end\n",
    "        cur_player = opponent_player(cur_player)\n",
    "        #println(\"Step $(length(history)) with value $(avg_val[action_idx])\")\n",
    "    end\n",
    "    \n",
    "    # Create the replay buffer by backing up the result\n",
    "    replay_buffer = []\n",
    "    for (state, player, probs, actions) in reverse(history)\n",
    "        push!(replay_buffer, (state, player, probs, actions, result))\n",
    "        result = -result\n",
    "    end\n",
    "    \n",
    "    replay_buffer, first_player_result, storages\n",
    "end"
   ]
  },
  {
   "cell_type": "code",
   "execution_count": 15,
   "metadata": {},
   "outputs": [
    {
     "data": {
      "text/plain": [
       "play_tournament (generic function with 1 method)"
      ]
     },
     "execution_count": 15,
     "metadata": {},
     "output_type": "execute_result"
    }
   ],
   "source": [
    "function play_tournament(hparams, models::NTuple{2, Any})\n",
    "    results = [0, 0]\n",
    "    \n",
    "    fake_hparams = deepcopy(hparams)\n",
    "    fake_hparams[\"tau\"] = 0\n",
    "    \n",
    "    models_bound = map(model -> (states, players)->run_batch(model, states, players), models)\n",
    "\n",
    "    \n",
    "    for i in 1:hparams[\"tournament_rounds\"]\n",
    "        _, r, _ = play_game(fake_hparams, (MCTSStorage(), MCTSStorage()), i%2 == 0 ? models_bound : reverse(models_bound))\n",
    "        \n",
    "        if r > 0 && i%2 == 0 || r < 0 && i%2 != 0\n",
    "            results[1] += 1\n",
    "        elseif r > 0 && i%2 == 0 || r < 0 && i%2 == 0 \n",
    "            results[2] += 1\n",
    "        end\n",
    "    end\n",
    "    results\n",
    "end"
   ]
  },
  {
   "cell_type": "code",
   "execution_count": 14,
   "metadata": {},
   "outputs": [
    {
     "data": {
      "text/plain": [
       "train_loop (generic function with 1 method)"
      ]
     },
     "execution_count": 14,
     "metadata": {},
     "output_type": "execute_result"
    }
   ],
   "source": [
    "function train_loop(hparams)\n",
    "    model = construct_model(hparams)\n",
    "    target_model = deepcopy(model)\n",
    "    run_batch_bound = (states, players)->run_batch(target_model, states, players)\n",
    "\n",
    "    storage = MCTSStorage()\n",
    "    replay_buffer = []\n",
    "    exchange_count = 0\n",
    "    \n",
    "    println(\"Starting self-play\")\n",
    "    for epoch in 1:hparams[\"epochs\"]\n",
    "        start = time_ns()\n",
    "        local_replay, res, storage = play_game(hparams, storage, run_batch_bound)\n",
    "        replay_buffer = vcat(replay_buffer, local_replay)\n",
    "        \n",
    "        postgame = time_ns()\n",
    "        \n",
    "        if length(replay_buffer) < hparams[\"min_replay_buffer_length\"]\n",
    "            println(\"Still warming up, currently $(length(replay_buffer)) items in the buffer ($(length(local_replay)/(postgame-start)*1e9)it/s)\")\n",
    "            continue\n",
    "        end\n",
    "        \n",
    "        valueloss, probloss = Model.train!(hparams, model, replay_buffer)\n",
    "        \n",
    "        posttrain = time_ns()\n",
    "        \n",
    "        println(\"Epoch $(epoch), V-loss: $(valueloss), P-loss: $(probloss), Play-time: $((postgame-start)*1e9)s Train-time: $((posttrain-postgame)*1e9)s\")\n",
    "        \n",
    "        \n",
    "        if epoch>0 && epoch%hparams[\"play_tournament_every\"]==0\n",
    "            println(\"Playing tournament...\")\n",
    "            res = play_tournament(hparams, (model, target_model))\n",
    "            \n",
    "            # Check if we have to exchange the model\n",
    "            if res[1] > sum(res)*hparams[\"model_exchange_threshold\"]\n",
    "                println(\"Model tournament won, exchanging model $(exchange_count) and checkpointing\")\n",
    "                replay_buffer = []\n",
    "                storage = MCTSStorage()\n",
    "                target_model = deepcopy(model)\n",
    "                run_batch_bound = (states, players)->run_batch(target_model, states, players)\n",
    "                exchange_count += 1\n",
    "                save_model(\"model_$(exchange_count).bson\", model)\n",
    "            end\n",
    "        end\n",
    "    end\n",
    "    \n",
    "end"
   ]
  },
  {
   "cell_type": "code",
   "execution_count": 19,
   "metadata": {},
   "outputs": [
    {
     "name": "stdout",
     "output_type": "stream",
     "text": [
      "Constructing model: (925, 2) -> 2048 -> (3175, 1)\n",
      "Starting self-play\n",
      "Epoch 1, V-loss: 1.0274144, P-loss: 7.9350944, Play-time: 4.4893260154e19s Train-time: 1.7189357357e19s\n",
      "Epoch 2, V-loss: 1.0049455, P-loss: 7.728598, Play-time: 1.4105034167e19s Train-time: 1.5543752872e19s\n",
      "Playing tournament...\n"
     ]
    },
    {
     "ename": "LoadError",
     "evalue": "InterruptException:",
     "output_type": "error",
     "traceback": [
      "InterruptException:",
      "",
      "Stacktrace:",
      " [1] Array at ./boot.jl:408 [inlined]",
      " [2] Array at ./boot.jl:416 [inlined]",
      " [3] Array at ./boot.jl:423 [inlined]",
      " [4] similar at ./abstractarray.jl:675 [inlined]",
      " [5] similar at ./abstractarray.jl:674 [inlined]",
      " [6] similar at ./broadcast.jl:197 [inlined]",
      " [7] similar at ./broadcast.jl:196 [inlined]",
      " [8] copy at ./broadcast.jl:862 [inlined]",
      " [9] materialize at ./broadcast.jl:837 [inlined]",
      " [10] (::Dense{typeof(identity),Array{Float32,2},Array{Float32,1}})(::Array{Float32,2}) at /home/sph3re/.julia/packages/Flux/q3zeA/src/layers/basic.jl:123",
      " [11] (::Dense{typeof(identity),Array{Float32,2},Array{Float32,1}})(::Array{Float32,2}) at /home/sph3re/.julia/packages/Flux/q3zeA/src/layers/basic.jl:134",
      " [12] (::ModelStruct)(::Array{Bool,2}) at /home/sph3re/Programming/tak/src/Model.jl:27",
      " [13] run_batch(::ModelStruct, ::Array{BitArray{1},1}, ::Array{Player,1}) at /home/sph3re/Programming/tak/src/Model.jl:53",
      " [14] (::var\"#26#28\"{ModelStruct})(::Array{BitArray{1},1}, ::Array{Player,1}) at ./In[15]:7",
      " [15] search_batch(::Dict{String,Any}, ::Dict{BitArray{1},Main.MCTS.NodeStats}, ::BitArray{1}, ::Player, ::var\"#26#28\"{ModelStruct}) at /home/sph3re/Programming/tak/src/MCTS.jl:133",
      " [16] mcts_search(::Dict{String,Any}, ::Dict{BitArray{1},Main.MCTS.NodeStats}, ::BitArray{1}, ::Player, ::Function) at /home/sph3re/Programming/tak/src/MCTS.jl:190",
      " [17] play_game(::Dict{String,Any}, ::Tuple{Dict{BitArray{1},Main.MCTS.NodeStats},Dict{BitArray{1},Main.MCTS.NodeStats}}, ::Tuple{var\"#26#28\"{ModelStruct},var\"#26#28\"{ModelStruct}}) at ./In[3]:22",
      " [18] play_tournament(::Dict{String,Any}, ::Tuple{ModelStruct,ModelStruct}) at ./In[15]:11",
      " [19] train_loop(::Dict{String,Any}) at ./In[14]:32",
      " [20] top-level scope at In[19]:31",
      " [21] execute_code(::String, ::String) at /home/sph3re/.julia/packages/IJulia/a1SNk/src/execute_request.jl:27",
      " [22] execute_request(::ZMQ.Socket, ::IJulia.Msg) at /home/sph3re/.julia/packages/IJulia/a1SNk/src/execute_request.jl:86",
      " [23] #invokelatest#1 at ./essentials.jl:710 [inlined]",
      " [24] invokelatest at ./essentials.jl:709 [inlined]",
      " [25] eventloop(::ZMQ.Socket) at /home/sph3re/.julia/packages/IJulia/a1SNk/src/eventloop.jl:8",
      " [26] (::IJulia.var\"#15#18\")() at ./task.jl:356"
     ]
    }
   ],
   "source": [
    "hparams = Dict(\n",
    "    \"d_puct\" => 1.0,\n",
    "    \"mcts_batch_size\" => 16,\n",
    "    \"mcts_iterations\" => 10,\n",
    "    \"run_name\" => \"testrun\",\n",
    "    \"exploration_factor\" => 0.25,\n",
    "    \"hidden_size\" => 2048,\n",
    "     # Tak has a white-bias (meaning the starting player is 60% more likely to win) - \n",
    "    # starting player randomization could balance this out\n",
    "    \"randomize_starting_player\" => false,\n",
    "    # How strong it should add random to move selection (0 -> fully greedy, inf -> fully random)\n",
    "    \"tau\" => 1.0,\n",
    "    # How many steps to apply above tau before switching to fully greedy\n",
    "    \"steps_before_tau_0\" => 8,\n",
    "    # How long to self-play before doing a training run\n",
    "    \"min_replay_buffer_length\" => 50,\n",
    "    # How many rounds of training per game\n",
    "    \"train_rounds\" => 10,\n",
    "    # Training batch size\n",
    "    \"train_batch_size\" => 256,\n",
    "    \"epochs\" => 1000,\n",
    "    # How many rounds to play a tournament\n",
    "    \"tournament_rounds\" => 10,\n",
    "    # Every x epochs to play a tournament\n",
    "    \"play_tournament_every\" => 2,\n",
    "    # The threshold which results in model exchange\n",
    "    # In fraction of games won\n",
    "    \"model_exchange_threshold\" => 0.6\n",
    "  )\n",
    "\n",
    "train_loop(hparams)"
   ]
  },
  {
   "cell_type": "code",
   "execution_count": 13,
   "metadata": {},
   "outputs": [
    {
     "data": {
      "text/plain": [
       "mean (generic function with 94 methods)"
      ]
     },
     "execution_count": 13,
     "metadata": {},
     "output_type": "execute_result"
    }
   ],
   "source": [
    "StatsBase.mean"
   ]
  },
  {
   "cell_type": "code",
   "execution_count": 18,
   "metadata": {},
   "outputs": [
    {
     "name": "stdout",
     "output_type": "stream",
     "text": [
      "Constructing model: (925, 2) -> 2048 -> (3175, 1)\n"
     ]
    },
    {
     "ename": "LoadError",
     "evalue": "InterruptException:",
     "output_type": "error",
     "traceback": [
      "InterruptException:",
      "",
      "Stacktrace:",
      " [1] Array at ./boot.jl:408 [inlined]",
      " [2] Array at ./boot.jl:416 [inlined]",
      " [3] Array at ./boot.jl:423 [inlined]",
      " [4] similar at ./abstractarray.jl:675 [inlined]",
      " [5] similar at ./abstractarray.jl:674 [inlined]",
      " [6] similar at ./broadcast.jl:197 [inlined]",
      " [7] similar at ./broadcast.jl:196 [inlined]",
      " [8] copy at ./broadcast.jl:862 [inlined]",
      " [9] materialize at ./broadcast.jl:837 [inlined]",
      " [10] (::Dense{typeof(leakyrelu),Array{Float32,2},Array{Float32,1}})(::Array{Bool,2}) at /home/sph3re/.julia/packages/Flux/q3zeA/src/layers/basic.jl:123",
      " [11] (::ModelStruct)(::Array{Bool,2}) at /home/sph3re/Programming/tak/src/Model.jl:26",
      " [12] run_batch(::ModelStruct, ::Array{BitArray{1},1}, ::Array{Player,1}) at /home/sph3re/Programming/tak/src/Model.jl:53",
      " [13] (::var\"#26#28\"{ModelStruct})(::Array{BitArray{1},1}, ::Array{Player,1}) at ./In[15]:7",
      " [14] search_batch(::Dict{String,Any}, ::Dict{BitArray{1},Main.MCTS.NodeStats}, ::BitArray{1}, ::Player, ::var\"#26#28\"{ModelStruct}) at /home/sph3re/Programming/tak/src/MCTS.jl:133",
      " [15] mcts_search(::Dict{String,Any}, ::Dict{BitArray{1},Main.MCTS.NodeStats}, ::BitArray{1}, ::Player, ::Function) at /home/sph3re/Programming/tak/src/MCTS.jl:190",
      " [16] play_game(::Dict{String,Any}, ::Tuple{Dict{BitArray{1},Main.MCTS.NodeStats},Dict{BitArray{1},Main.MCTS.NodeStats}}, ::Tuple{var\"#26#28\"{ModelStruct},var\"#26#28\"{ModelStruct}}) at ./In[3]:22",
      " [17] play_tournament(::Dict{String,Any}, ::Tuple{ModelStruct,ModelStruct}) at ./In[15]:11",
      " [18] top-level scope at In[18]:6",
      " [19] execute_code(::String, ::String) at /home/sph3re/.julia/packages/IJulia/a1SNk/src/execute_request.jl:27",
      " [20] execute_request(::ZMQ.Socket, ::IJulia.Msg) at /home/sph3re/.julia/packages/IJulia/a1SNk/src/execute_request.jl:86",
      " [21] #invokelatest#1 at ./essentials.jl:710 [inlined]",
      " [22] invokelatest at ./essentials.jl:709 [inlined]",
      " [23] eventloop(::ZMQ.Socket) at /home/sph3re/.julia/packages/IJulia/a1SNk/src/eventloop.jl:8",
      " [24] (::IJulia.var\"#15#18\")() at ./task.jl:356"
     ]
    }
   ],
   "source": [
    "model = construct_model(hparams)\n",
    "# run_batch_bound = (states, players)->run_batch(model, states, players)\n",
    "\n",
    "model2 = deepcopy(model)\n",
    "\n",
    "play_tournament(hparams, (model, model2))"
   ]
  },
  {
   "cell_type": "code",
   "execution_count": null,
   "metadata": {},
   "outputs": [],
   "source": [
    "\n",
    "opt = ADAMW(1e-4)\n",
    "ps = Flux.params(model)"
   ]
  },
  {
   "cell_type": "code",
   "execution_count": 12,
   "metadata": {},
   "outputs": [
    {
     "name": "stdout",
     "output_type": "stream",
     "text": [
      "Step 1 with value -0.017926248\n",
      "Step 2 with value 0.037073404\n",
      "Step 3 with value -0.024761125\n",
      "Step 4 with value -0.011414436\n",
      "Step 5 with value -0.032807652\n",
      "Step 6 with value -0.019710287\n",
      "Step 7 with value -0.015782766\n",
      "Step 8 with value 0.029932553\n",
      "Step 9 with value 0.14412145\n",
      "Step 10 with value 0.06626747\n",
      "Step 11 with value 0.08761059\n",
      "Step 12 with value 0.06579852\n",
      "Step 13 with value 0.08740783\n",
      "Step 14 with value 0.10324987\n",
      "Step 15 with value 0.16370703\n",
      "Step 16 with value 0.13790533\n",
      "Step 17 with value 0.17427978\n",
      "Step 18 with value 0.15341558\n",
      "Step 19 with value 0.20130357\n",
      "Step 20 with value 0.16830353\n",
      "Step 21 with value 0.21941866\n",
      "Step 22 with value 0.18736555\n",
      "Step 23 with value 0.23259227\n",
      "Step 24 with value 0.14237265\n",
      "Step 25 with value 0.23891716\n",
      "Step 26 with value 0.11334258\n",
      "Step 27 with value 0.17858881\n",
      "Step 28 with value 0.16233386\n",
      "Step 29 with value 0.19228268\n",
      "Step 30 with value -0.1219746\n",
      "Step 31 with value 0.7478719\n"
     ]
    },
    {
     "data": {
      "text/plain": [
       "(Any[(Bool[0, 0, 1, 0, 0, 1, 1, 0, 1, 0  …  0, 0, 0, 0, 1, 0, 0, 0, 0, 0], black, [0.0, 0.0, 0.0, 0.0, 0.0, 0.0, 0.0, 0.0, 0.0, 0.0  …  0.0, 0.0, 0.0, 0.0, 0.0, 0.0, 0.0, 0.0, 0.0, 0.0], [1971, 2575, 162, 193, 224, 2702, 2764, 893, 924, 986  …  1686, 1717, 2925, 3018, 1147, 1209, 1240, 2417, 2510, 3145], 1), (Bool[0, 0, 1, 0, 0, 1, 1, 0, 1, 0  …  0, 0, 0, 0, 1, 0, 0, 0, 0, 0], white, [0.0, 0.0, 0.0, 0.0, 0.0, 0.0, 0.0, 0.0, 0.0, 0.0  …  0.0, 0.0, 0.0, 0.0, 0.0, 0.0, 0.0, 0.0, 0.0, 0.0], [1971, 2575, 162, 193, 224, 2702, 2764, 893, 924, 986  …  1686, 1717, 2925, 3018, 1147, 1209, 1240, 2417, 2510, 3145], -1), (Bool[0, 0, 1, 0, 0, 1, 1, 0, 1, 0  …  0, 0, 0, 0, 1, 0, 0, 0, 0, 0], black, [0.0, 0.0, 0.0, 0.0, 0.0, 0.0, 0.0, 1.0, 0.0, 0.0  …  0.0, 0.0, 0.0, 0.0, 0.0, 0.0, 0.0, 0.0, 0.0, 0.0], [1971, 2575, 162, 193, 224, 2702, 2764, 254, 255, 256  …  1686, 1717, 2925, 3018, 1147, 1209, 1240, 2417, 2510, 3145], 1), (Bool[0, 0, 1, 0, 0, 1, 1, 0, 1, 0  …  0, 0, 0, 0, 1, 0, 0, 0, 0, 0], white, [0.0, 0.0, 0.0, 0.0, 0.0, 0.0, 0.0, 0.0, 0.0, 0.0  …  0.0, 0.0, 0.0, 0.0, 0.0, 0.0, 0.0, 0.0, 0.0, 0.0], [1971, 2575, 162, 193, 224, 2702, 2764, 254, 255, 256  …  1686, 1717, 2925, 3018, 1147, 1209, 1240, 2417, 2510, 3145], -1), (Bool[0, 0, 1, 0, 0, 1, 1, 0, 1, 0  …  0, 0, 0, 0, 1, 0, 0, 0, 0, 0], black, [0.0, 0.0, 0.0, 0.0, 0.0, 1.0, 0.0, 0.0, 0.0, 0.0  …  0.0, 0.0, 0.0, 0.0, 0.0, 0.0, 0.0, 0.0, 0.0, 0.0], [1971, 2575, 162, 193, 224, 1397, 1398, 1399, 2702, 2764  …  1686, 1717, 2925, 3018, 1147, 1209, 1240, 2417, 2510, 3145], 1), (Bool[0, 0, 1, 0, 0, 1, 1, 0, 1, 0  …  0, 0, 0, 0, 1, 0, 0, 0, 0, 0], white, [0.0, 1.0, 0.0, 0.0, 0.0, 0.0, 0.0, 0.0, 0.0, 0.0  …  0.0, 0.0, 0.0, 0.0, 0.0, 0.0, 0.0, 0.0, 0.0, 0.0], [1971, 2540, 2541, 2542, 162, 193, 224, 1397, 1398, 1399  …  1686, 1717, 2925, 3018, 1147, 1209, 1240, 2417, 2510, 3145], -1), (Bool[0, 0, 1, 0, 0, 1, 1, 0, 1, 0  …  0, 0, 0, 0, 1, 0, 0, 0, 0, 0], black, [0.0, 0.0, 0.0, 0.0, 0.0, 0.0, 0.0, 0.0, 0.0, 0.0  …  0.0, 0.0, 0.0, 0.0, 0.0, 0.0, 0.0, 0.0, 0.0, 0.0], [1971, 2540, 2541, 2542, 162, 193, 224, 1397, 1398, 1399  …  1621, 1655, 1686, 1717, 1147, 1209, 1240, 2417, 2510, 3145], 1), (Bool[0, 0, 1, 0, 0, 1, 1, 0, 1, 0  …  0, 0, 0, 0, 1, 0, 0, 0, 0, 0], white, [0.0, 0.0, 0.0, 0.0, 0.0, 0.0, 0.0, 0.0, 0.0, 0.0  …  0.0, 0.0, 0.0, 0.0, 0.0, 0.0, 0.0, 0.0, 0.0, 0.0], [1971, 2540, 2541, 2542, 162, 193, 224, 1397, 1398, 1399  …  1621, 1655, 1686, 1717, 1147, 1209, 1240, 2417, 2510, 3145], -1), (Bool[0, 0, 1, 0, 0, 1, 0, 0, 0, 0  …  0, 0, 0, 0, 1, 0, 0, 0, 0, 0], black, [0.0, 0.0, 0.0, 0.0, 0.0, 0.0, 0.0, 0.0, 0.0, 0.0  …  0.0, 0.0, 0.0, 0.0, 0.0, 0.0, 0.0, 0.0, 0.0, 0.0], [1270, 1271, 1272, 1909, 1971, 2540, 2541, 2542, 162, 193  …  1621, 1655, 1686, 1717, 1147, 1209, 1240, 2417, 2510, 3145], 1), (Bool[0, 0, 1, 0, 0, 1, 0, 0, 0, 0  …  0, 0, 0, 0, 1, 0, 0, 0, 0, 0], white, [0.0, 0.0, 0.0, 0.0, 0.0, 0.0, 0.0, 0.0, 0.0, 0.0  …  0.0, 0.0, 0.0, 0.0, 0.0, 0.0, 0.0, 0.0, 0.0, 0.0], [1270, 1271, 1272, 1909, 1971, 2540, 2541, 2542, 162, 193  …  1621, 1655, 1686, 1717, 1147, 1209, 1240, 2417, 2510, 3145], -1)  …  (Bool[0, 0, 1, 0, 0, 1, 0, 0, 0, 0  …  0, 0, 0, 0, 1, 0, 0, 0, 0, 0], black, [0.0, 0.0, 0.0, 0.0, 0.0, 0.0, 0.0, 0.0, 0.0, 0.0  …  0.0, 0.0, 0.0, 0.0, 0.0, 0.0, 0.0, 0.0, 0.0, 0.0], [1270, 1271, 1272, 1909, 1940, 1971, 2540, 2541, 2542, 127  …  670, 701, 766, 797, 828, 859, 1528, 1559, 1590, 1621], 1), (Bool[0, 0, 1, 0, 0, 1, 0, 0, 0, 0  …  0, 0, 0, 0, 1, 0, 0, 0, 0, 0], white, [0.0, 0.0, 0.0, 0.0, 0.0, 0.0, 0.0, 0.0, 0.0, 0.0  …  0.0, 0.0, 0.0, 0.0, 0.0, 0.0, 0.0, 0.0, 0.0, 0.0], [1270, 1271, 1272, 1909, 1940, 1971, 2540, 2541, 2542, 127  …  670, 701, 766, 797, 828, 859, 1528, 1559, 1590, 1621], -1), (Bool[0, 0, 0, 0, 0, 1, 0, 0, 0, 0  …  0, 0, 0, 0, 1, 0, 0, 0, 0, 0], black, [0.038461538461538464, 0.03076923076923077, 0.0, 0.023076923076923078, 0.015384615384615385, 0.0, 0.0, 0.0, 0.0, 0.015384615384615385  …  0.015384615384615385, 0.03076923076923077, 0.015384615384615385, 0.023076923076923078, 0.007692307692307693, 0.015384615384615385, 0.015384615384615385, 0.007692307692307693, 0.03076923076923077, 0.007692307692307693], [0, 1, 2, 1270, 1271, 1272, 1909, 1940, 1971, 2540  …  670, 701, 766, 797, 828, 859, 1528, 1559, 1590, 1621], 1), (Bool[0, 0, 0, 0, 0, 1, 0, 0, 0, 0  …  0, 0, 0, 0, 1, 0, 0, 0, 0, 0], white, [0.02158273381294964, 0.014388489208633094, 0.02877697841726619, 0.02877697841726619, 0.007194244604316547, 0.02158273381294964, 0.007194244604316547, 0.014388489208633094, 0.02877697841726619, 0.014388489208633094  …  0.0, 0.0, 0.0, 0.0, 0.0, 0.0, 0.0, 0.0, 0.0, 0.0], [0, 1, 2, 1270, 1271, 1272, 1909, 1940, 1971, 2540  …  670, 701, 766, 797, 828, 859, 1528, 1559, 1590, 1621], -1), (Bool[0, 0, 0, 0, 0, 1, 0, 0, 0, 0  …  0, 0, 0, 0, 1, 0, 0, 0, 0, 0], black, [0.014705882352941176, 0.029411764705882353, 0.0, 0.022058823529411766, 0.014705882352941176, 0.0, 0.0, 0.0, 0.0, 0.029411764705882353  …  0.022058823529411766, 0.014705882352941176, 0.022058823529411766, 0.022058823529411766, 0.007352941176470588, 0.014705882352941176, 0.022058823529411766, 0.007352941176470588, 0.014705882352941176, 0.014705882352941176], [0, 1, 2, 1270, 1271, 1272, 1909, 1940, 1971, 2540  …  639, 670, 701, 893, 924, 986, 1528, 1559, 1590, 1621], 1), (Bool[0, 0, 0, 0, 0, 1, 0, 0, 0, 0  …  0, 0, 0, 0, 1, 0, 0, 0, 0, 0], white, [0.023076923076923078, 0.015384615384615385, 0.015384615384615385, 0.023076923076923078, 0.007692307692307693, 0.007692307692307693, 0.0, 0.015384615384615385, 0.023076923076923078, 0.007692307692307693  …  0.0, 0.0, 0.0, 0.0, 0.0, 0.0, 0.0, 0.0, 0.0, 0.0], [0, 1, 2, 1270, 1271, 1272, 1905, 1906, 1907, 2540  …  639, 670, 701, 893, 924, 986, 1528, 1559, 1590, 1621], -1), (Bool[0, 0, 0, 0, 0, 0, 0, 0, 0, 0  …  0, 0, 0, 0, 1, 0, 0, 0, 0, 0], black, [0.014925373134328358, 0.022388059701492536, 0.0, 0.014925373134328358, 0.007462686567164179, 0.0, 0.014925373134328358, 0.007462686567164179, 0.0, 0.022388059701492536  …  0.022388059701492536, 0.022388059701492536, 0.0, 0.007462686567164179, 0.014925373134328358, 0.022388059701492536, 0.014925373134328358, 0.029850746268656716, 0.022388059701492536, 0.014925373134328358], [0, 1, 2, 635, 636, 637, 1270, 1271, 1272, 1905  …  3048, 3049, 3050, 893, 924, 986, 1528, 1559, 1590, 1621], 1), (Bool[0, 0, 0, 0, 0, 0, 0, 0, 0, 0  …  0, 0, 0, 0, 1, 0, 0, 0, 0, 0], white, [0.006711409395973154, 0.013422818791946308, 0.013422818791946308, 0.006711409395973154, 0.013422818791946308, 0.013422818791946308, 0.006711409395973154, 0.013422818791946308, 0.006711409395973154, 0.013422818791946308  …  0.020134228187919462, 0.013422818791946308, 0.020134228187919462, 0.013422818791946308, 0.006711409395973154, 0.020134228187919462, 0.0, 0.0, 0.0, 0.0], [0, 1, 2, 635, 636, 637, 1270, 1271, 1272, 1905  …  2413, 2414, 2415, 3048, 3049, 3050, 893, 924, 955, 986], -1), (Bool[0, 0, 0, 0, 0, 0, 0, 0, 0, 0  …  0, 0, 0, 0, 1, 0, 0, 0, 0, 0], black, [0.022058823529411766, 0.007352941176470588, 0.014705882352941176, 0.022058823529411766, 0.007352941176470588, 0.014705882352941176, 0.007352941176470588, 0.007352941176470588, 0.029411764705882353, 0.007352941176470588  …  0.014705882352941176, 0.007352941176470588, 0.014705882352941176, 0.007352941176470588, 0.014705882352941176, 0.014705882352941176, 0.014705882352941176, 0.014705882352941176, 0.007352941176470588, 0.014705882352941176], [0, 1, 2, 635, 636, 637, 1270, 1271, 1272, 1905  …  2413, 2414, 2415, 3048, 3049, 3050, 1020, 1051, 1082, 1113], 1), (Bool[0, 0, 0, 0, 0, 0, 0, 0, 0, 0  …  0, 0, 0, 0, 0, 0, 0, 0, 0, 0], white, [0.017699115044247787, 0.02654867256637168, 0.008849557522123894, 0.008849557522123894, 0.017699115044247787, 0.008849557522123894, 0.008849557522123894, 0.0, 0.008849557522123894, 0.02654867256637168  …  0.008849557522123894, 0.017699115044247787, 0.017699115044247787, 0.017699115044247787, 0.008849557522123894, 0.017699115044247787, 0.008849557522123894, 0.008849557522123894, 0.017699115044247787, 0.008849557522123894], [0, 1, 2, 635, 636, 637, 1270, 1271, 1272, 1905  …  1145, 1778, 1779, 1780, 2413, 2414, 2415, 3048, 3049, 3050], -1)], -1, Dict{BitArray{1},Main.MCTS.NodeStats}([0, 0, 0, 0, 0, 1, 0, 1, 0, 0  …  0, 0, 0, 0, 1, 0, 0, 0, 0, 0] => Main.MCTS.NodeStats([0, 1, 2, 1274, 1305, 1336, 1905, 1906, 1907, 2540  …  828, 859, 2036, 2067, 2098, 2129, 1528, 1559, 1590, 1621], [0, 0, 0, 0, 0, 0, 0, 0, 0, 0  …  0, 0, 0, 0, 0, 0, 0, 0, 0, 0], Float32[0.0, 0.0, 0.0, 0.0, 0.0, 0.0, 0.0, 0.0, 0.0, 0.0  …  0.0, 0.0, 0.0, 0.0, 0.0, 0.0, 0.0, 0.0, 0.0, 0.0], Float32[0.0, 0.0, 0.0, 0.0, 0.0, 0.0, 0.0, 0.0, 0.0, 0.0  …  0.0, 0.0, 0.0, 0.0, 0.0, 0.0, 0.0, 0.0, 0.0, 0.0], Float32[0.013374711, 0.013206867, 0.013406458, 0.013103161, 0.01284178, 0.012451057, 0.012028979, 0.013556037, 0.012653466, 0.012920355  …  0.014834382, 0.013804349, 0.012822614, 0.012611849, 0.013357337, 0.0129790995, 0.013860227, 0.012954768, 0.012655091, 0.012365052]),[0, 0, 0, 0, 0, 1, 0, 0, 0, 0  …  0, 0, 0, 0, 1, 0, 0, 0, 0, 1] => Main.MCTS.NodeStats([0, 1, 1270, 1271, 1909, 1940, 1971, 2540, 2541, 127  …  924, 955, 986, 894, 925, 956, 987, 929, 960, 991], [0, 0, 0, 0, 0, 0, 0, 0, 0, 0  …  0, 0, 0, 0, 0, 0, 0, 0, 0, 0], Float32[0.0, 0.0, 0.0, 0.0, 0.0, 0.0, 0.0, 0.0, 0.0, 0.0  …  0.0, 0.0, 0.0, 0.0, 0.0, 0.0, 0.0, 0.0, 0.0, 0.0], Float32[0.0, 0.0, 0.0, 0.0, 0.0, 0.0, 0.0, 0.0, 0.0, 0.0  …  0.0, 0.0, 0.0, 0.0, 0.0, 0.0, 0.0, 0.0, 0.0, 0.0], Float32[0.015499685, 0.01725757, 0.016511448, 0.016495066, 0.015560024, 0.01581623, 0.01594977, 0.0154081825, 0.016502667, 0.015958779  …  0.016005153, 0.015885724, 0.016325839, 0.017876456, 0.016649319, 0.016846064, 0.01569407, 0.015840033, 0.016522197, 0.015165608]),[0, 0, 1, 0, 0, 1, 0, 0, 0, 0  …  0, 0, 0, 0, 1, 0, 0, 0, 0, 0] => Main.MCTS.NodeStats([1270, 1271, 1272, 1909, 1940, 1971, 2540, 2541, 2542, 162  …  859, 1528, 1559, 1590, 1621, 2194, 2225, 2256, 3052, 3145], [1, 0, 1, 0, 0, 0, 0, 0, 0, 0  …  0, 0, 0, 0, 0, 0, 0, 0, 0, 0], Float32[-0.20976225, 0.0, -0.21846843, 0.0, 0.0, 0.0, 0.0, 0.0, 0.0, 0.0  …  0.0, 0.0, 0.0, 0.0, 0.0, 0.0, 0.0, 0.0, 0.0, 0.0], Float32[-0.20976225, 0.0, -0.21846843, 0.0, 0.0, 0.0, 0.0, 0.0, 0.0, 0.0  …  0.0, 0.0, 0.0, 0.0, 0.0, 0.0, 0.0, 0.0, 0.0, 0.0], Float32[0.015089123, 0.014985126, 0.01546062, 0.015008573, 0.015079326, 0.013390531, 0.014698018, 0.014273687, 0.013003363, 0.014615081  …  0.014375839, 0.01418322, 0.015005824, 0.014523528, 0.014534615, 0.0149861565, 0.015017238, 0.01309965, 0.012489114, 0.013761091]),[0, 0, 1, 0, 0, 1, 0, 0, 0, 0  …  0, 0, 0, 0, 1, 0, 0, 0, 0, 0] => Main.MCTS.NodeStats([1270, 1271, 1909, 1971, 2540, 2541, 162, 193, 224, 1397  …  859, 2036, 2067, 2098, 1528, 1559, 1590, 1621, 3052, 3145], [0, 0, 0, 0, 0, 0, 0, 0, 0, 0  …  0, 0, 0, 0, 0, 0, 0, 0, 0, 0], Float32[0.0, 0.0, 0.0, 0.0, 0.0, 0.0, 0.0, 0.0, 0.0, 0.0  …  0.0, 0.0, 0.0, 0.0, 0.0, 0.0, 0.0, 0.0, 0.0, 0.0], Float32[0.0, 0.0, 0.0, 0.0, 0.0, 0.0, 0.0, 0.0, 0.0, 0.0  …  0.0, 0.0, 0.0, 0.0, 0.0, 0.0, 0.0, 0.0, 0.0, 0.0], Float32[0.020168202, 0.019608555, 0.019423695, 0.016904809, 0.017954778, 0.018332917, 0.019601183, 0.016279604, 0.017908469, 0.018216223  …  0.017987022, 0.01818849, 0.018377734, 0.01727047, 0.01928088, 0.018827341, 0.017505558, 0.016540445, 0.015525971, 0.018157937]),[0, 0, 1, 0, 0, 0, 0, 0, 1, 0  …  0, 0, 0, 0, 1, 0, 0, 0, 0, 0] => Main.MCTS.NodeStats([635, 636, 637, 1909, 1971, 2540, 2541, 2542, 162, 193  …  1621, 1655, 1686, 1717, 1147, 1209, 1240, 2417, 2510, 3145], [0, 0, 0, 0, 0, 0, 0, 0, 0, 0  …  0, 0, 0, 0, 0, 0, 0, 0, 0, 0], Float32[0.0, 0.0, 0.0, 0.0, 0.0, 0.0, 0.0, 0.0, 0.0, 0.0  …  0.0, 0.0, 0.0, 0.0, 0.0, 0.0, 0.0, 0.0, 0.0, 0.0], Float32[0.0, 0.0, 0.0, 0.0, 0.0, 0.0, 0.0, 0.0, 0.0, 0.0  …  0.0, 0.0, 0.0, 0.0, 0.0, 0.0, 0.0, 0.0, 0.0, 0.0], Float32[0.019262712, 0.01670077, 0.019686889, 0.019863622, 0.015798967, 0.018450702, 0.018491842, 0.01761969, 0.019807138, 0.01691177  …  0.018470615, 0.014273964, 0.019745242, 0.015747005, 0.018655788, 0.016513366, 0.016576312, 0.016918562, 0.019086843, 0.018047895]),[0, 0, 1, 0, 0, 1, 1, 0, 1, 0  …  0, 0, 0, 0, 1, 0, 0, 0, 0, 0] => Main.MCTS.NodeStats([1971, 2540, 2541, 2542, 162, 193, 224, 1397, 1398, 1399  …  1621, 2290, 2352, 2383, 1147, 1209, 1240, 2417, 2510, 3145], [1, 0, 0, 0, 1, 0, 0, 0, 0, 0  …  0, 0, 0, 0, 0, 0, 0, 0, 0, 0], Float32[-0.20187363, 0.0, 0.0, 0.0, -0.19555837, 0.0, 0.0, 0.0, 0.0, 0.0  …  0.0, 0.0, 0.0, 0.0, 0.0, 0.0, 0.0, 0.0, 0.0, 0.0], Float32[-0.20187363, 0.0, 0.0, 0.0, -0.19555837, 0.0, 0.0, 0.0, 0.0, 0.0  …  0.0, 0.0, 0.0, 0.0, 0.0, 0.0, 0.0, 0.0, 0.0, 0.0], Float32[0.014539514, 0.016246412, 0.017385555, 0.015393202, 0.018404461, 0.015792891, 0.015675923, 0.016497983, 0.017145963, 0.017945312  …  0.015802901, 0.014911015, 0.0151684815, 0.015921207, 0.017279511, 0.015134506, 0.014588219, 0.015709506, 0.01726781, 0.01654255]),[0, 0, 0, 0, 0, 0, 0, 0, 0, 0  …  0, 0, 0, 0, 1, 0, 0, 0, 0, 0] => Main.MCTS.NodeStats([0, 1, 2, 635, 636, 637, 1270, 1271, 1272, 1905  …  1780, 2413, 2414, 2415, 3048, 3049, 3050, 1020, 1051, 1082], [1, 0, 0, 0, 0, 0, 0, 0, 0, 0  …  0, 0, 0, 0, 0, 0, 0, 0, 0, 0], Float32[0.022397548, 0.0, 0.0, 0.0, 0.0, 0.0, 0.0, 0.0, 0.0, 0.0  …  0.0, 0.0, 0.0, 0.0, 0.0, 0.0, 0.0, 0.0, 0.0, 0.0], Float32[0.022397548, 0.0, 0.0, 0.0, 0.0, 0.0, 0.0, 0.0, 0.0, 0.0  …  0.0, 0.0, 0.0, 0.0, 0.0, 0.0, 0.0, 0.0, 0.0, 0.0], Float32[0.013509118, 0.013568856, 0.013265558, 0.013764228, 0.013178205, 0.013094516, 0.013515671, 0.013203102, 0.013967206, 0.013146513  …  0.01298839, 0.012554694, 0.013037409, 0.012475351, 0.013028588, 0.013217085, 0.012805647, 0.013284728, 0.012611295, 0.013425327]),[0, 0, 1, 0, 0, 1, 0, 0, 1, 0  …  0, 0, 0, 0, 1, 0, 0, 0, 0, 0] => Main.MCTS.NodeStats([1909, 1971, 2540, 2541, 2542, 162, 193, 224, 1397, 1398  …  859, 2036, 2067, 2098, 1528, 1559, 1590, 1621, 3052, 3145], [0, 0, 0, 0, 0, 0, 0, 0, 0, 0  …  0, 0, 0, 0, 0, 0, 0, 0, 0, 0], Float32[0.0, 0.0, 0.0, 0.0, 0.0, 0.0, 0.0, 0.0, 0.0, 0.0  …  0.0, 0.0, 0.0, 0.0, 0.0, 0.0, 0.0, 0.0, 0.0, 0.0], Float32[0.0, 0.0, 0.0, 0.0, 0.0, 0.0, 0.0, 0.0, 0.0, 0.0  …  0.0, 0.0, 0.0, 0.0, 0.0, 0.0, 0.0, 0.0, 0.0, 0.0], Float32[0.013927626, 0.01317205, 0.013975682, 0.013895262, 0.013525372, 0.015028004, 0.01367156, 0.013258725, 0.014401362, 0.014915801  …  0.014564103, 0.013347436, 0.014371174, 0.0133353975, 0.014490112, 0.013277262, 0.013883775, 0.0141807245, 0.01207167, 0.013377542]),[0, 0, 1, 0, 0, 1, 1, 0, 0, 0  …  0, 0, 0, 0, 1, 0, 0, 0, 0, 0] => Main.MCTS.NodeStats([1274, 1305, 1909, 1971, 2540, 2541, 2542, 162, 193, 224  …  2098, 1528, 1559, 1590, 1621, 2194, 2225, 2417, 2479, 2510], [0, 0, 0, 0, 0, 0, 0, 0, 0, 0  …  0, 0, 0, 0, 0, 0, 0, 0, 0, 0], Float32[0.0, 0.0, 0.0, 0.0, 0.0, 0.0, 0.0, 0.0, 0.0, 0.0  …  0.0, 0.0, 0.0, 0.0, 0.0, 0.0, 0.0, 0.0, 0.0, 0.0], Float32[0.0, 0.0, 0.0, 0.0, 0.0, 0.0, 0.0, 0.0, 0.0, 0.0  …  0.0, 0.0, 0.0, 0.0, 0.0, 0.0, 0.0, 0.0, 0.0, 0.0], Float32[0.013902907, 0.0145326825, 0.015059633, 0.013324239, 0.014896366, 0.015491871, 0.014608215, 0.014662199, 0.0135304285, 0.0142589845  …  0.013227231, 0.015015732, 0.014957401, 0.015071851, 0.0144916875, 0.015051018, 0.015957939, 0.013262091, 0.013822986, 0.016089555]),[0, 0, 1, 0, 0, 1, 0, 0, 0, 0  …  0, 0, 0, 0, 1, 0, 0, 0, 0, 0] => Main.MCTS.NodeStats([1270, 1271, 1909, 1971, 2540, 2541, 162, 193, 224, 1397  …  859, 2036, 2098, 893, 924, 955, 986, 2417, 2479, 2510], [0, 0, 0, 0, 0, 0, 0, 0, 0, 0  …  0, 0, 0, 0, 0, 0, 0, 0, 0, 0], Float32[0.0, 0.0, 0.0, 0.0, 0.0, 0.0, 0.0, 0.0, 0.0, 0.0  …  0.0, 0.0, 0.0, 0.0, 0.0, 0.0, 0.0, 0.0, 0.0, 0.0], Float32[0.0, 0.0, 0.0, 0.0, 0.0, 0.0, 0.0, 0.0, 0.0, 0.0  …  0.0, 0.0, 0.0, 0.0, 0.0, 0.0, 0.0, 0.0, 0.0, 0.0], Float32[0.018763881, 0.017964322, 0.017480431, 0.016002377, 0.017613191, 0.017222704, 0.018703736, 0.017133461, 0.016599862, 0.017157288  …  0.018678006, 0.018075105, 0.017099624, 0.016833456, 0.018090766, 0.017824426, 0.016847108, 0.017281981, 0.016993985, 0.018219946])…))"
      ]
     },
     "execution_count": 12,
     "metadata": {},
     "output_type": "execute_result"
    }
   ],
   "source": [
    "replay_buffer, _, _ = play_game(hparams, MCTSStorage(), run_batch_bound)"
   ]
  },
  {
   "cell_type": "code",
   "execution_count": 13,
   "metadata": {},
   "outputs": [
    {
     "data": {
      "text/plain": [
       "32"
      ]
     },
     "execution_count": 13,
     "metadata": {},
     "output_type": "execute_result"
    }
   ],
   "source": [
    "length(replay_buffer)"
   ]
  },
  {
   "cell_type": "code",
   "execution_count": 14,
   "metadata": {},
   "outputs": [],
   "source": [
    "batch = rand(replay_buffer, hparams[\"train_batch_size\"])\n",
    "states, players, probs, possible_actions, values = getindex.(batch, 1), getindex.(batch, 2), getindex.(batch, 3), getindex.(batch, 4), getindex.(batch, 5)\n",
    "states = Flux.batch(board_to_enc.(decompress_board.(states)))\n",
    "players = Flux.onehotbatch(players, instances(Player))\n",
    "inputs = vcat(players, states) |> gpu\n",
    "probs = convert.(Float, Flux.batch(map(x -> expand_action_probs(x...), zip(possible_actions, probs)))) |> gpu\n",
    "values = Flux.batch(values) |> gpu\n",
    "\n",
    "nothing"
   ]
  },
  {
   "cell_type": "code",
   "execution_count": 16,
   "metadata": {},
   "outputs": [
    {
     "data": {
      "text/plain": [
       "Grads(...)"
      ]
     },
     "execution_count": 16,
     "metadata": {},
     "output_type": "execute_result"
    }
   ],
   "source": [
    "Flux.gradient(ps) do\n",
    "    logits_net, values_net = model(inputs)\n",
    "    loss_values = Flux.Losses.mse(values_net, values)\n",
    "    loss_probs = Flux.Losses.logitcrossentropy(logits_net, probs)\n",
    "    loss_total = loss_values + loss_probs\n",
    "    loss_total\n",
    "end"
   ]
  },
  {
   "cell_type": "code",
   "execution_count": 8,
   "metadata": {},
   "outputs": [
    {
     "data": {
      "text/plain": [
       "10-element Array{Float64,1}:\n",
       " 1.6579818416426264\n",
       " 1.6629451766982248\n",
       " 0.7449922362182373\n",
       " 0.32933932145202527\n",
       " 1.1471362099428106\n",
       " 0.753300593009185\n",
       " 0.43833787316868467\n",
       " 1.2309179623659552\n",
       " 0.3156955037301994\n",
       " 1.6218474362676965"
      ]
     },
     "execution_count": 8,
     "metadata": {},
     "output_type": "execute_result"
    }
   ],
   "source": [
    "x = rand(10)\n",
    "y = rand(10)\n",
    "\n",
    "z = x .+ y"
   ]
  },
  {
   "cell_type": "code",
   "execution_count": 19,
   "metadata": {},
   "outputs": [
    {
     "data": {
      "text/plain": [
       "Base.Iterators.Rest{Array{Int64,1},Int64}([1, 2, 3, 4, 5, 6, 7, 8, 9, 10], 2)"
      ]
     },
     "execution_count": 19,
     "metadata": {},
     "output_type": "execute_result"
    }
   ],
   "source": [
    "rest"
   ]
  },
  {
   "cell_type": "code",
   "execution_count": 38,
   "metadata": {},
   "outputs": [
    {
     "data": {
      "text/plain": [
       "16-element Array{Player,1}:\n",
       " black::Player = 0x01\n",
       " black::Player = 0x01\n",
       " black::Player = 0x01\n",
       " black::Player = 0x01\n",
       " white::Player = 0x00\n",
       " black::Player = 0x01\n",
       " black::Player = 0x01\n",
       " black::Player = 0x01\n",
       " white::Player = 0x00\n",
       " black::Player = 0x01\n",
       " black::Player = 0x01\n",
       " white::Player = 0x00\n",
       " black::Player = 0x01\n",
       " white::Player = 0x00\n",
       " black::Player = 0x01\n",
       " white::Player = 0x00"
      ]
     },
     "execution_count": 38,
     "metadata": {},
     "output_type": "execute_result"
    }
   ],
   "source": [
    "batch = rand(replay_buffer, 16)\n",
    "states, players, probs, values = gpu.((getindex.(batch, 1), getindex.(batch, 2), getindex.(batch, 3), getindex.(batch, 4)))\n",
    "states .= board_to_enc.(decompress_board.(states))\n"
   ]
  },
  {
   "cell_type": "code",
   "execution_count": 42,
   "metadata": {},
   "outputs": [
    {
     "data": {
      "text/plain": [
       "27"
      ]
     },
     "execution_count": 42,
     "metadata": {},
     "output_type": "execute_result"
    }
   ],
   "source": [
    "sum(states[10])"
   ]
  },
  {
   "cell_type": "code",
   "execution_count": null,
   "metadata": {},
   "outputs": [],
   "source": []
  }
 ],
 "metadata": {
  "kernelspec": {
   "display_name": "Julia 1.5.3",
   "language": "julia",
   "name": "julia-1.5"
  },
  "language_info": {
   "file_extension": ".jl",
   "mimetype": "application/julia",
   "name": "julia",
   "version": "1.5.3"
  }
 },
 "nbformat": 4,
 "nbformat_minor": 4
}
