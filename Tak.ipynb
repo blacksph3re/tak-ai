{
 "cells": [
  {
   "cell_type": "code",
   "execution_count": 1,
   "metadata": {},
   "outputs": [
    {
     "data": {
      "text/plain": [
       "Main.Encoder"
      ]
     },
     "execution_count": 1,
     "metadata": {},
     "output_type": "execute_result"
    }
   ],
   "source": [
    "include(\"src/TakEnv.jl\")\n",
    "include(\"src/Encoder.jl\")"
   ]
  },
  {
   "cell_type": "code",
   "execution_count": 2,
   "metadata": {},
   "outputs": [
    {
     "data": {
      "text/plain": [
       "Float64"
      ]
     },
     "execution_count": 2,
     "metadata": {},
     "output_type": "execute_result"
    }
   ],
   "source": [
    "using .TakEnv\n",
    "using .TakEnv: FIELD_SIZE, FIELD_HEIGHT, possible_carries, possible_directions, stone_player, stone_type, get_stack_height, get_top_stone, flat, cap, stand, north, south, east, west, placement, carry, white, black\n",
    "using StatProfilerHTML\n",
    "using BenchmarkTools\n",
    "using .Encoder\n",
    "using Distributions\n",
    "\n",
    "Float = Float64"
   ]
  },
  {
   "cell_type": "code",
   "execution_count": 7,
   "metadata": {},
   "outputs": [
    {
     "data": {
      "text/plain": [
       "Dict{String,Any}"
      ]
     },
     "execution_count": 7,
     "metadata": {},
     "output_type": "execute_result"
    }
   ],
   "source": [
    "hparams = Dict(\n",
    "    \"d_puct\" => 1.0,\n",
    "    \"batch_size\" => 64,\n",
    "    \"run_name\" => \"testrun\",\n",
    "    \"exploration_factor\" => 0.25)\n",
    "HParams = typeof(hparams)\n"
   ]
  },
  {
   "cell_type": "code",
   "execution_count": 4,
   "metadata": {},
   "outputs": [
    {
     "data": {
      "text/plain": [
       "Dict{BitArray{1},NodeStats}"
      ]
     },
     "execution_count": 4,
     "metadata": {},
     "output_type": "execute_result"
    }
   ],
   "source": [
    "mutable struct NodeStats\n",
    "    actions::Vector{Action}\n",
    "    visit_counts::Vector{Int}\n",
    "    values::Vector{Float}\n",
    "    avg_values::Vector{Float}\n",
    "    probs::Vector{Float}\n",
    "end\n",
    "\n",
    "MCTSStorage = Dict{CompressedBoard, NodeStats}\n"
   ]
  },
  {
   "cell_type": "code",
   "execution_count": 5,
   "metadata": {},
   "outputs": [
    {
     "data": {
      "text/plain": [
       "Dict{BitArray{1},NodeStats}()"
      ]
     },
     "execution_count": 5,
     "metadata": {},
     "output_type": "execute_result"
    }
   ],
   "source": [
    "storage = MCTSStorage()\n"
   ]
  },
  {
   "cell_type": "code",
   "execution_count": 8,
   "metadata": {},
   "outputs": [
    {
     "data": {
      "text/plain": [
       "find_leaf (generic function with 2 methods)"
      ]
     },
     "execution_count": 8,
     "metadata": {},
     "output_type": "execute_result"
    }
   ],
   "source": [
    "function is_leaf(storage::MCTSStorage, state::CompressedBoard)\n",
    "    !haskey(storage, state)\n",
    "end\n",
    "\n",
    "function find_leaf(hparams::HParams, storage::MCTSStorage, start_state::CompressedBoard, player::Player)\n",
    "    states = CompressedBoard[]\n",
    "    actions = CompressedAction[]\n",
    "    \n",
    "    cur_state = start_state\n",
    "    cur_player = player\n",
    "    value = nothing\n",
    "    \n",
    "    while !is_leaf(storage, cur_state)\n",
    "        push!(states, cur_state)\n",
    "        \n",
    "        stats = storage[cur_state]\n",
    "        total_sqrt = sqrt(sum(stats.visit_counts))\n",
    "        \n",
    "        probs = stats.probs\n",
    "        \n",
    "        # For the first move, add noise for exploration\n",
    "        if cur_state == start_state\n",
    "            noise_dist = Dirichlet(length(stats), 0.03)\n",
    "            exploration = hparams[\"exploration_factor\"]\n",
    "            probs = (1-exploration) .* prob .+ exploration .* rand(noise_dist)\n",
    "        end\n",
    "        \n",
    "        # Calculate action scores\n",
    "        d_puct = hparams[\"d_puct\"]\n",
    "        score = stats.values_avg .+ d_puct .* probs .* total_sqrt ./ (1 .+ stats.visit_counts)\n",
    "        \n",
    "        \n",
    "        # Advance the game state\n",
    "        board = decompress_board(cur_state)\n",
    "        possible_actions = enumerate_actions(board, cur_player)\n",
    "        \n",
    "        # Set all those score values to -Inf which are invalid actions\n",
    "        score[isnothing.(getindex.(indexin.(stats.actions, Ref(compress_action.(possible_actions)))))] .= -Inf\n",
    "        \n",
    "        # Choose the argmax action\n",
    "        cur_action = stats.actions[argmax(score)]\n",
    "        push!(actions, cur_action)\n",
    "        apply_action!(board, decompress_action(cur_action), cur_player)  \n",
    "        \n",
    "        # Check for win\n",
    "        result = check_win(board, player)\n",
    "        cur_player = opponent_player(cur_player)\n",
    "        cur_state = compress_board(board)\n",
    "        \n",
    "        # We already switched players, so a victory was actually a loss\n",
    "        if !isnothing(result)\n",
    "            victory_type, player_won = result\n",
    "            if victory_type == draw\n",
    "                value = 0.0\n",
    "            elseif player_won == cur_player\n",
    "                value = -1.0\n",
    "            else\n",
    "                value = 1.0\n",
    "            end\n",
    "            break\n",
    "        end\n",
    "    end\n",
    "    \n",
    "    value, cur_state, cur_player, states, actions\n",
    "end"
   ]
  },
  {
   "cell_type": "code",
   "execution_count": 9,
   "metadata": {},
   "outputs": [
    {
     "data": {
      "text/plain": [
       "(nothing, Bool[0, 0, 0, 0, 0, 0, 0, 0, 0, 0  …  0, 0, 0, 0, 0, 0, 0, 0, 0, 0], white, BitArray{1}[], Int64[])"
      ]
     },
     "execution_count": 9,
     "metadata": {},
     "output_type": "execute_result"
    }
   ],
   "source": [
    "find_leaf(hparams, storage, compress_board(empty_board()), white::Player)"
   ]
  },
  {
   "cell_type": "code",
   "execution_count": 15,
   "metadata": {},
   "outputs": [
    {
     "data": {
      "text/plain": [
       "search_batch (generic function with 2 methods)"
      ]
     },
     "execution_count": 15,
     "metadata": {},
     "output_type": "execute_result"
    }
   ],
   "source": [
    "function search_batch(hparams::HParams, storage::MCTSStorage, start_state, player, model)\n",
    "    backup_queue = []\n",
    "    expand_states = []\n",
    "    expand_players = []\n",
    "    expand_queue = []\n",
    "    planned = []\n",
    "    \n",
    "    # Perform a search\n",
    "    for _ in 1:hparams[\"batch_size\"]\n",
    "        value, leaf_state, leaf_player, states, actions = find_leaf(hparams, storage, start_state, player)\n",
    "        if !isnothing(value) # Win/lose/draw\n",
    "            push!(backup_queue, (value, states, actions))\n",
    "        elseif !(leaf_state in planned) # Need to expand\n",
    "            # For expansion, precalculate all possible actions\n",
    "            possible_actions = compress_action.(enumerate_actions(decompress_board(leaf_state)))\n",
    "            \n",
    "            push!(planned, leaf_state)\n",
    "            push!(expand_states, leaf_state)\n",
    "            push!(expand_players, leaf_player)\n",
    "            push!(expand_queue, (leaf_state, states, actions, possible_actions))\n",
    "        end\n",
    "    end\n",
    "    \n",
    "    # Expand nodes\n",
    "    if length(expand_queue)>0\n",
    "        # TODO get values and probs via model\n",
    "        \n",
    "        # Save the node\n",
    "        for (leaf_state, states, actions, possible_actions) in expand_queue\n",
    "            stats = NodeStats(\n",
    "                possible_actions,\n",
    "                zeros(length(possible_actions)), # Visit counts\n",
    "                zeros(length(possible_actions)), # Values\n",
    "                zeros(length(possible_actions)), # Avg values\n",
    "                rand(Dirichlet(length(possible_actions), 0.1)) # Probs, TODO replace with model predictions\n",
    "            )\n",
    "            storage[leaf_state] = stats\n",
    "            push!(backup_queue, (rand(), states, actions))\n",
    "        end\n",
    "    end\n",
    "end"
   ]
  },
  {
   "cell_type": "code",
   "execution_count": 16,
   "metadata": {},
   "outputs": [],
   "source": [
    "search_batch(hparams, MCTSStorage(), compress_board(empty_board()), white::Player, x -> rand(size(x)))"
   ]
  },
  {
   "cell_type": "code",
   "execution_count": 23,
   "metadata": {},
   "outputs": [
    {
     "data": {
      "text/plain": [
       "3-element Array{Int64,1}:\n",
       " 0\n",
       " 0\n",
       " 0"
      ]
     },
     "execution_count": 23,
     "metadata": {},
     "output_type": "execute_result"
    }
   ],
   "source": [
    "NodeStats([], zeros(3), zeros(3), zeros(3), []).visit_counts"
   ]
  },
  {
   "cell_type": "code",
   "execution_count": 52,
   "metadata": {},
   "outputs": [
    {
     "data": {
      "text/plain": [
       "6-element Array{Float64,1}:\n",
       "   0.10210144791730258\n",
       " -Inf\n",
       "   0.7351115019489811\n",
       "  -1.0\n",
       "  -1.0\n",
       "  -1.0"
      ]
     },
     "execution_count": 52,
     "metadata": {},
     "output_type": "execute_result"
    }
   ],
   "source": [
    "x = rand(10)\n",
    "y = vcat(x[1:3], zeros(3))\n",
    "\n",
    "y[isnothing.(getindex.(indexin.(y, Ref(x))))] .= -1\n",
    "y[2] = -Inf\n",
    "y"
   ]
  },
  {
   "cell_type": "code",
   "execution_count": 42,
   "metadata": {},
   "outputs": [
    {
     "data": {
      "text/plain": [
       "4"
      ]
     },
     "execution_count": 42,
     "metadata": {},
     "output_type": "execute_result"
    }
   ],
   "source": [
    "getindex(indexin(0, y))"
   ]
  },
  {
   "cell_type": "code",
   "execution_count": null,
   "metadata": {},
   "outputs": [],
   "source": []
  }
 ],
 "metadata": {
  "kernelspec": {
   "display_name": "Julia 1.5.3",
   "language": "julia",
   "name": "julia-1.5"
  },
  "language_info": {
   "file_extension": ".jl",
   "mimetype": "application/julia",
   "name": "julia",
   "version": "1.5.3"
  }
 },
 "nbformat": 4,
 "nbformat_minor": 4
}
