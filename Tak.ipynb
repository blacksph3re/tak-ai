{
 "cells": [
  {
   "cell_type": "code",
   "execution_count": 1,
   "metadata": {},
   "outputs": [],
   "source": [
    "# Ideas for improvement\n",
    "# Store the player alongside with the board state, as the move heuristics should depend on the currently active player\n",
    "# Don't store the actions in a node, calculating them is quick and we are memory bound\n",
    "# Rotate or reflect the board when feeding it to a neural net - tak is rotation/reflection-invariant"
   ]
  },
  {
   "cell_type": "code",
   "execution_count": 1,
   "metadata": {},
   "outputs": [
    {
     "data": {
      "text/plain": [
       "Main.Model"
      ]
     },
     "execution_count": 1,
     "metadata": {},
     "output_type": "execute_result"
    }
   ],
   "source": [
    "include(\"src/TakEnv.jl\")\n",
    "include(\"src/Encoder.jl\")\n",
    "include(\"src/MCTS.jl\")\n",
    "include(\"src/Model.jl\")"
   ]
  },
  {
   "cell_type": "code",
   "execution_count": 2,
   "metadata": {},
   "outputs": [
    {
     "data": {
      "text/plain": [
       "Float32"
      ]
     },
     "execution_count": 2,
     "metadata": {},
     "output_type": "execute_result"
    }
   ],
   "source": [
    "using .TakEnv\n",
    "using .TakEnv: black, white\n",
    "using .Encoder\n",
    "using .MCTS\n",
    "using .Model\n",
    "using StatProfilerHTML\n",
    "using BenchmarkTools\n",
    "using Distributions\n",
    "using StatsBase\n",
    "using Flux\n",
    "\n",
    "Float = Float32"
   ]
  },
  {
   "cell_type": "code",
   "execution_count": 3,
   "metadata": {},
   "outputs": [
    {
     "data": {
      "text/plain": [
       "play_game (generic function with 2 methods)"
      ]
     },
     "execution_count": 3,
     "metadata": {},
     "output_type": "execute_result"
    }
   ],
   "source": [
    "\n",
    "function play_game(hparams, storage::MCTSStorage, model)\n",
    "    buf, res, storages = play_game(hparams, (storage, storage), (model, model))\n",
    "    buf, res, storages[1]\n",
    "end\n",
    "\n",
    "function play_game(hparams, storages::NTuple{2, MCTSStorage}, models::NTuple{2, Any})\n",
    "    board = empty_board()\n",
    "    cur_player = white::Player\n",
    "    first_player = white::Player\n",
    "    history = []\n",
    "    \n",
    "    result = nothing\n",
    "    first_player_result = nothing\n",
    "    # Play a game\n",
    "    while isnothing(result)\n",
    "        storage_idx = cur_player==first_player ? 1 : 2\n",
    "        \n",
    "        # Perform a bit of MCTS and then choose an action\n",
    "        possible_actions = compress_action.(enumerate_actions(board, cur_player))\n",
    "        state = compress_board(board)\n",
    "        storage = mcts_search(hparams, storages[storage_idx], state, cur_player, models[storage_idx])\n",
    "        tau = hparams[\"steps_before_tau_0\"] > length(history) ? hparams[\"tau\"] : 0\n",
    "        probs, avg_val, actions = evaluate_node(storages[storage_idx], state, tau, possible_actions)\n",
    "        action_idx = sample(1:length(actions), AnalyticWeights(probs))\n",
    "        push!(history, (state, cur_player, probs, actions))\n",
    "        \n",
    "        # Advance the game-state and check for a win\n",
    "        apply_action!(board, decompress_action(actions[action_idx]), cur_player)\n",
    "        result = check_win(board, cur_player)\n",
    "        if !isnothing(result)\n",
    "            if result[1] == TakEnv.draw\n",
    "                result = 0\n",
    "                first_player_result = 0\n",
    "            elseif result[2] == first_player\n",
    "                result = 1\n",
    "                first_player_result = 1\n",
    "            else\n",
    "                result = 1\n",
    "                first_player_result = -1\n",
    "            end\n",
    "            break\n",
    "        end\n",
    "        cur_player = opponent_player(cur_player)\n",
    "        #println(\"Step $(length(history)) with value $(avg_val[action_idx])\")\n",
    "    end\n",
    "    \n",
    "    # Create the replay buffer by backing up the result\n",
    "    replay_buffer = []\n",
    "    for (state, player, probs, actions) in reverse(history)\n",
    "        push!(replay_buffer, (state, player, probs, actions, result))\n",
    "        result = -result\n",
    "    end\n",
    "    \n",
    "    replay_buffer, first_player_result, storages\n",
    "end"
   ]
  },
  {
   "cell_type": "code",
   "execution_count": 15,
   "metadata": {},
   "outputs": [
    {
     "data": {
      "text/plain": [
       "play_tournament (generic function with 1 method)"
      ]
     },
     "execution_count": 15,
     "metadata": {},
     "output_type": "execute_result"
    }
   ],
   "source": [
    "function play_tournament(hparams, models::NTuple{2, Any})\n",
    "    results = [0, 0]\n",
    "    \n",
    "    fake_hparams = deepcopy(hparams)\n",
    "    fake_hparams[\"tau\"] = 0\n",
    "    \n",
    "    models_bound = map(model -> (states, players)->run_batch(model, states, players), models)\n",
    "\n",
    "    \n",
    "    for i in 1:hparams[\"tournament_rounds\"]\n",
    "        _, r, _ = play_game(fake_hparams, (MCTSStorage(), MCTSStorage()), i%2 == 0 ? models_bound : reverse(models_bound))\n",
    "        \n",
    "        if r > 0 && i%2 == 0 || r < 0 && i%2 != 0\n",
    "            results[1] += 1\n",
    "        elseif r > 0 && i%2 == 0 || r < 0 && i%2 == 0 \n",
    "            results[2] += 1\n",
    "        end\n",
    "    end\n",
    "    results\n",
    "end"
   ]
  },
  {
   "cell_type": "code",
   "execution_count": 14,
   "metadata": {},
   "outputs": [
    {
     "data": {
      "text/plain": [
       "train_loop (generic function with 1 method)"
      ]
     },
     "execution_count": 14,
     "metadata": {},
     "output_type": "execute_result"
    }
   ],
   "source": [
    "function train_loop(hparams)\n",
    "    model = construct_model(hparams)\n",
    "    target_model = deepcopy(model)\n",
    "    run_batch_bound = (states, players)->run_batch(target_model, states, players)\n",
    "\n",
    "    storage = MCTSStorage()\n",
    "    replay_buffer = []\n",
    "    exchange_count = 0\n",
    "    \n",
    "    println(\"Starting self-play\")\n",
    "    for epoch in 1:hparams[\"epochs\"]\n",
    "        start = time_ns()\n",
    "        local_replay, res, storage = play_game(hparams, storage, run_batch_bound)\n",
    "        replay_buffer = vcat(replay_buffer, local_replay)\n",
    "        \n",
    "        postgame = time_ns()\n",
    "        \n",
    "        if length(replay_buffer) < hparams[\"min_replay_buffer_length\"]\n",
    "            println(\"Still warming up, currently $(length(replay_buffer)) items in the buffer ($(length(local_replay)/(postgame-start)*1e9)it/s)\")\n",
    "            continue\n",
    "        end\n",
    "        \n",
    "        valueloss, probloss = Model.train!(hparams, model, replay_buffer)\n",
    "        \n",
    "        posttrain = time_ns()\n",
    "        \n",
    "        println(\"Epoch $(epoch), V-loss: $(valueloss), P-loss: $(probloss), Play-time: $((postgame-start)*1e9)s Train-time: $((posttrain-postgame)*1e9)s\")\n",
    "        \n",
    "        \n",
    "        if epoch>0 && epoch%hparams[\"play_tournament_every\"]==0\n",
    "            println(\"Playing tournament...\")\n",
    "            res = play_tournament(hparams, (model, target_model))\n",
    "            \n",
    "            # Check if we have to exchange the model\n",
    "            if res[1] > sum(res)*hparams[\"model_exchange_threshold\"]\n",
    "                println(\"Model tournament won, exchanging model $(exchange_count) and checkpointing\")\n",
    "                replay_buffer = []\n",
    "                storage = MCTSStorage()\n",
    "                target_model = deepcopy(model)\n",
    "                run_batch_bound = (states, players)->run_batch(target_model, states, players)\n",
    "                exchange_count += 1\n",
    "                save_model(\"model_$(exchange_count).bson\", model)\n",
    "            end\n",
    "        end\n",
    "    end\n",
    "    \n",
    "end"
   ]
  },
  {
   "cell_type": "code",
   "execution_count": 19,
   "metadata": {},
   "outputs": [
    {
     "name": "stdout",
     "output_type": "stream",
     "text": [
      "Constructing model: (925, 2) -> 2048 -> (3175, 1)\n",
      "Starting self-play\n",
      "Epoch 1, V-loss: 1.0274144, P-loss: 7.9350944, Play-time: 4.4893260154e19s Train-time: 1.7189357357e19s\n",
      "Epoch 2, V-loss: 1.0049455, P-loss: 7.728598, Play-time: 1.4105034167e19s Train-time: 1.5543752872e19s\n",
      "Playing tournament...\n"
     ]
    },
    {
     "ename": "LoadError",
     "evalue": "InterruptException:",
     "output_type": "error",
     "traceback": [
      "InterruptException:",
      "",
      "Stacktrace:",
      " [1] Array at ./boot.jl:408 [inlined]",
      " [2] Array at ./boot.jl:416 [inlined]",
      " [3] Array at ./boot.jl:423 [inlined]",
      " [4] similar at ./abstractarray.jl:675 [inlined]",
      " [5] similar at ./abstractarray.jl:674 [inlined]",
      " [6] similar at ./broadcast.jl:197 [inlined]",
      " [7] similar at ./broadcast.jl:196 [inlined]",
      " [8] copy at ./broadcast.jl:862 [inlined]",
      " [9] materialize at ./broadcast.jl:837 [inlined]",
      " [10] (::Dense{typeof(identity),Array{Float32,2},Array{Float32,1}})(::Array{Float32,2}) at /home/sph3re/.julia/packages/Flux/q3zeA/src/layers/basic.jl:123",
      " [11] (::Dense{typeof(identity),Array{Float32,2},Array{Float32,1}})(::Array{Float32,2}) at /home/sph3re/.julia/packages/Flux/q3zeA/src/layers/basic.jl:134",
      " [12] (::ModelStruct)(::Array{Bool,2}) at /home/sph3re/Programming/tak/src/Model.jl:27",
      " [13] run_batch(::ModelStruct, ::Array{BitArray{1},1}, ::Array{Player,1}) at /home/sph3re/Programming/tak/src/Model.jl:53",
      " [14] (::var\"#26#28\"{ModelStruct})(::Array{BitArray{1},1}, ::Array{Player,1}) at ./In[15]:7",
      " [15] search_batch(::Dict{String,Any}, ::Dict{BitArray{1},Main.MCTS.NodeStats}, ::BitArray{1}, ::Player, ::var\"#26#28\"{ModelStruct}) at /home/sph3re/Programming/tak/src/MCTS.jl:133",
      " [16] mcts_search(::Dict{String,Any}, ::Dict{BitArray{1},Main.MCTS.NodeStats}, ::BitArray{1}, ::Player, ::Function) at /home/sph3re/Programming/tak/src/MCTS.jl:190",
      " [17] play_game(::Dict{String,Any}, ::Tuple{Dict{BitArray{1},Main.MCTS.NodeStats},Dict{BitArray{1},Main.MCTS.NodeStats}}, ::Tuple{var\"#26#28\"{ModelStruct},var\"#26#28\"{ModelStruct}}) at ./In[3]:22",
      " [18] play_tournament(::Dict{String,Any}, ::Tuple{ModelStruct,ModelStruct}) at ./In[15]:11",
      " [19] train_loop(::Dict{String,Any}) at ./In[14]:32",
      " [20] top-level scope at In[19]:31",
      " [21] execute_code(::String, ::String) at /home/sph3re/.julia/packages/IJulia/a1SNk/src/execute_request.jl:27",
      " [22] execute_request(::ZMQ.Socket, ::IJulia.Msg) at /home/sph3re/.julia/packages/IJulia/a1SNk/src/execute_request.jl:86",
      " [23] #invokelatest#1 at ./essentials.jl:710 [inlined]",
      " [24] invokelatest at ./essentials.jl:709 [inlined]",
      " [25] eventloop(::ZMQ.Socket) at /home/sph3re/.julia/packages/IJulia/a1SNk/src/eventloop.jl:8",
      " [26] (::IJulia.var\"#15#18\")() at ./task.jl:356"
     ]
    }
   ],
   "source": [
    "hparams = Dict(\n",
    "    \"d_puct\" => 1.0,\n",
    "    \"mcts_batch_size\" => 16,\n",
    "    \"mcts_iterations\" => 10,\n",
    "    \"run_name\" => \"testrun\",\n",
    "    \"exploration_factor\" => 0.25,\n",
    "    \"hidden_size\" => 2048,\n",
    "     # Tak has a white-bias (meaning the starting player is 60% more likely to win) - \n",
    "    # starting player randomization could balance this out\n",
    "    \"randomize_starting_player\" => false,\n",
    "    # How strong it should add random to move selection (0 -> fully greedy, inf -> fully random)\n",
    "    \"tau\" => 1.0,\n",
    "    # How many steps to apply above tau before switching to fully greedy\n",
    "    \"steps_before_tau_0\" => 8,\n",
    "    # How long to self-play before doing a training run\n",
    "    \"min_replay_buffer_length\" => 50,\n",
    "    # How many rounds of training per game\n",
    "    \"train_rounds\" => 10,\n",
    "    # Training batch size\n",
    "    \"train_batch_size\" => 256,\n",
    "    \"epochs\" => 1000,\n",
    "    # How many rounds to play a tournament\n",
    "    \"tournament_rounds\" => 10,\n",
    "    # Every x epochs to play a tournament\n",
    "    \"play_tournament_every\" => 2,\n",
    "    # The threshold which results in model exchange\n",
    "    # In fraction of games won\n",
    "    \"model_exchange_threshold\" => 0.6\n",
    "  )\n",
    "\n",
    "train_loop(hparams)"
   ]
  },
  {
   "cell_type": "code",
   "execution_count": 21,
   "metadata": {},
   "outputs": [
    {
     "data": {
      "text/plain": [
       "5×5×43 Array{Union{Nothing, Tuple{Stone,Player}},3}:\n",
       "[:, :, 1] =\n",
       " nothing         (stand, black)  nothing        (stand, white)  nothing\n",
       " (flat, white)   nothing         nothing        (stand, white)  (flat, black)\n",
       " (stand, white)  (flat, white)   nothing        nothing         nothing\n",
       " nothing         nothing         (flat, black)  (flat, black)   (flat, white)\n",
       " (flat, black)   (flat, black)   (cap, black)   nothing         (cap, white)\n",
       "\n",
       "[:, :, 2] =\n",
       " nothing  nothing         nothing  nothing        nothing\n",
       " nothing  nothing         nothing  nothing        nothing\n",
       " nothing  (stand, white)  nothing  nothing        nothing\n",
       " nothing  nothing         nothing  (flat, black)  nothing\n",
       " nothing  nothing         nothing  nothing        nothing\n",
       "\n",
       "[:, :, 3] =\n",
       " nothing  nothing  nothing  nothing  nothing\n",
       " nothing  nothing  nothing  nothing  nothing\n",
       " nothing  nothing  nothing  nothing  nothing\n",
       " nothing  nothing  nothing  nothing  nothing\n",
       " nothing  nothing  nothing  nothing  nothing\n",
       "\n",
       "...\n",
       "\n",
       "[:, :, 41] =\n",
       " nothing  nothing  nothing  nothing  nothing\n",
       " nothing  nothing  nothing  nothing  nothing\n",
       " nothing  nothing  nothing  nothing  nothing\n",
       " nothing  nothing  nothing  nothing  nothing\n",
       " nothing  nothing  nothing  nothing  nothing\n",
       "\n",
       "[:, :, 42] =\n",
       " nothing  nothing  nothing  nothing  nothing\n",
       " nothing  nothing  nothing  nothing  nothing\n",
       " nothing  nothing  nothing  nothing  nothing\n",
       " nothing  nothing  nothing  nothing  nothing\n",
       " nothing  nothing  nothing  nothing  nothing\n",
       "\n",
       "[:, :, 43] =\n",
       " nothing  nothing  nothing  nothing  nothing\n",
       " nothing  nothing  nothing  nothing  nothing\n",
       " nothing  nothing  nothing  nothing  nothing\n",
       " nothing  nothing  nothing  nothing  nothing\n",
       " nothing  nothing  nothing  nothing  nothing"
      ]
     },
     "execution_count": 21,
     "metadata": {},
     "output_type": "execute_result"
    }
   ],
   "source": [
    "board = random_game(20)[1]"
   ]
  },
  {
   "cell_type": "code",
   "execution_count": 22,
   "metadata": {},
   "outputs": [
    {
     "data": {
      "image/png": "[encoded data removed]",
      "text/plain": []
     },
     "execution_count": 22,
     "metadata": {},
     "output_type": "execute_result"
    }
   ],
   "source": [
    "render_board(board)"
   ]
  },
  {
   "cell_type": "code",
   "execution_count": 30,
   "metadata": {},
   "outputs": [
    {
     "data": {
      "text/plain": [
       "5×5×43 Array{Union{Nothing, Tuple{Stone,Player}},3}:\n",
       "[:, :, 1] =\n",
       " (flat, black)   (flat, black)   (cap, black)   nothing         (cap, white)\n",
       " nothing         nothing         (flat, black)  (flat, black)   (flat, white)\n",
       " (stand, white)  (flat, white)   nothing        nothing         nothing\n",
       " (flat, white)   nothing         nothing        (stand, white)  (flat, black)\n",
       " nothing         (stand, black)  nothing        (stand, white)  nothing\n",
       "\n",
       "[:, :, 2] =\n",
       " nothing  nothing         nothing  nothing        nothing\n",
       " nothing  nothing         nothing  (flat, black)  nothing\n",
       " nothing  (stand, white)  nothing  nothing        nothing\n",
       " nothing  nothing         nothing  nothing        nothing\n",
       " nothing  nothing         nothing  nothing        nothing\n",
       "\n",
       "[:, :, 3] =\n",
       " nothing  nothing  nothing  nothing  nothing\n",
       " nothing  nothing  nothing  nothing  nothing\n",
       " nothing  nothing  nothing  nothing  nothing\n",
       " nothing  nothing  nothing  nothing  nothing\n",
       " nothing  nothing  nothing  nothing  nothing\n",
       "\n",
       "...\n",
       "\n",
       "[:, :, 41] =\n",
       " nothing  nothing  nothing  nothing  nothing\n",
       " nothing  nothing  nothing  nothing  nothing\n",
       " nothing  nothing  nothing  nothing  nothing\n",
       " nothing  nothing  nothing  nothing  nothing\n",
       " nothing  nothing  nothing  nothing  nothing\n",
       "\n",
       "[:, :, 42] =\n",
       " nothing  nothing  nothing  nothing  nothing\n",
       " nothing  nothing  nothing  nothing  nothing\n",
       " nothing  nothing  nothing  nothing  nothing\n",
       " nothing  nothing  nothing  nothing  nothing\n",
       " nothing  nothing  nothing  nothing  nothing\n",
       "\n",
       "[:, :, 43] =\n",
       " nothing  nothing  nothing  nothing  nothing\n",
       " nothing  nothing  nothing  nothing  nothing\n",
       " nothing  nothing  nothing  nothing  nothing\n",
       " nothing  nothing  nothing  nothing  nothing\n",
       " nothing  nothing  nothing  nothing  nothing"
      ]
     },
     "execution_count": 30,
     "metadata": {},
     "output_type": "execute_result"
    }
   ],
   "source": [
    "board2 = board[end:-1:1, :, :]"
   ]
  },
  {
   "cell_type": "code",
   "execution_count": 31,
   "metadata": {},
   "outputs": [
    {
     "data": {
      "image/png": "[encoded data removed]",
      "text/plain": []
     },
     "execution_count": 31,
     "metadata": {},
     "output_type": "execute_result"
    }
   ],
   "source": [
    "render_board(board2)"
   ]
  },
  {
   "cell_type": "code",
   "execution_count": 13,
   "metadata": {},
   "outputs": [
    {
     "data": {
      "text/plain": [
       "32"
      ]
     },
     "execution_count": 13,
     "metadata": {},
     "output_type": "execute_result"
    }
   ],
   "source": [
    "length(replay_buffer)"
   ]
  },
  {
   "cell_type": "code",
   "execution_count": 14,
   "metadata": {},
   "outputs": [],
   "source": [
    "batch = rand(replay_buffer, hparams[\"train_batch_size\"])\n",
    "states, players, probs, possible_actions, values = getindex.(batch, 1), getindex.(batch, 2), getindex.(batch, 3), getindex.(batch, 4), getindex.(batch, 5)\n",
    "states = Flux.batch(board_to_enc.(decompress_board.(states)))\n",
    "players = Flux.onehotbatch(players, instances(Player))\n",
    "inputs = vcat(players, states) |> gpu\n",
    "probs = convert.(Float, Flux.batch(map(x -> expand_action_probs(x...), zip(possible_actions, probs)))) |> gpu\n",
    "values = Flux.batch(values) |> gpu\n",
    "\n",
    "nothing"
   ]
  },
  {
   "cell_type": "code",
   "execution_count": 16,
   "metadata": {},
   "outputs": [
    {
     "data": {
      "text/plain": [
       "Grads(...)"
      ]
     },
     "execution_count": 16,
     "metadata": {},
     "output_type": "execute_result"
    }
   ],
   "source": [
    "Flux.gradient(ps) do\n",
    "    logits_net, values_net = model(inputs)\n",
    "    loss_values = Flux.Losses.mse(values_net, values)\n",
    "    loss_probs = Flux.Losses.logitcrossentropy(logits_net, probs)\n",
    "    loss_total = loss_values + loss_probs\n",
    "    loss_total\n",
    "end"
   ]
  },
  {
   "cell_type": "code",
   "execution_count": 8,
   "metadata": {},
   "outputs": [
    {
     "data": {
      "text/plain": [
       "10-element Array{Float64,1}:\n",
       " 1.6579818416426264\n",
       " 1.6629451766982248\n",
       " 0.7449922362182373\n",
       " 0.32933932145202527\n",
       " 1.1471362099428106\n",
       " 0.753300593009185\n",
       " 0.43833787316868467\n",
       " 1.2309179623659552\n",
       " 0.3156955037301994\n",
       " 1.6218474362676965"
      ]
     },
     "execution_count": 8,
     "metadata": {},
     "output_type": "execute_result"
    }
   ],
   "source": [
    "x = rand(10)\n",
    "y = rand(10)\n",
    "\n",
    "z = x .+ y"
   ]
  },
  {
   "cell_type": "code",
   "execution_count": 19,
   "metadata": {},
   "outputs": [
    {
     "data": {
      "text/plain": [
       "Base.Iterators.Rest{Array{Int64,1},Int64}([1, 2, 3, 4, 5, 6, 7, 8, 9, 10], 2)"
      ]
     },
     "execution_count": 19,
     "metadata": {},
     "output_type": "execute_result"
    }
   ],
   "source": [
    "rest"
   ]
  },
  {
   "cell_type": "code",
   "execution_count": 38,
   "metadata": {},
   "outputs": [
    {
     "data": {
      "text/plain": [
       "16-element Array{Player,1}:\n",
       " black::Player = 0x01\n",
       " black::Player = 0x01\n",
       " black::Player = 0x01\n",
       " black::Player = 0x01\n",
       " white::Player = 0x00\n",
       " black::Player = 0x01\n",
       " black::Player = 0x01\n",
       " black::Player = 0x01\n",
       " white::Player = 0x00\n",
       " black::Player = 0x01\n",
       " black::Player = 0x01\n",
       " white::Player = 0x00\n",
       " black::Player = 0x01\n",
       " white::Player = 0x00\n",
       " black::Player = 0x01\n",
       " white::Player = 0x00"
      ]
     },
     "execution_count": 38,
     "metadata": {},
     "output_type": "execute_result"
    }
   ],
   "source": [
    "batch = rand(replay_buffer, 16)\n",
    "states, players, probs, values = gpu.((getindex.(batch, 1), getindex.(batch, 2), getindex.(batch, 3), getindex.(batch, 4)))\n",
    "states .= board_to_enc.(decompress_board.(states))\n"
   ]
  },
  {
   "cell_type": "code",
   "execution_count": 42,
   "metadata": {},
   "outputs": [
    {
     "data": {
      "text/plain": [
       "27"
      ]
     },
     "execution_count": 42,
     "metadata": {},
     "output_type": "execute_result"
    }
   ],
   "source": [
    "sum(states[10])"
   ]
  },
  {
   "cell_type": "code",
   "execution_count": null,
   "metadata": {},
   "outputs": [],
   "source": []
  }
 ],
 "metadata": {
  "kernelspec": {
   "display_name": "Julia 1.5.3",
   "language": "julia",
   "name": "julia-1.5"
  },
  "language_info": {
   "file_extension": ".jl",
   "mimetype": "application/julia",
   "name": "julia",
   "version": "1.5.3"
  }
 },
 "nbformat": 4,
 "nbformat_minor": 4
}
